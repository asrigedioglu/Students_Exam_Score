{
 "cells": [
  {
   "cell_type": "code",
   "execution_count": 1,
   "id": "96619a46",
   "metadata": {},
   "outputs": [],
   "source": [
    "import pandas as pd\n",
    "import numpy as np\n",
    "import seaborn as sbn\n",
    "import matplotlib.pyplot as plt\n",
    "import glob"
   ]
  },
  {
   "cell_type": "code",
   "execution_count": 2,
   "id": "c995a18e",
   "metadata": {},
   "outputs": [],
   "source": [
    "exams = pd.read_csv(\"Expanded_data_with_more_features.csv\")"
   ]
  },
  {
   "cell_type": "code",
   "execution_count": 3,
   "id": "a4d2fa98",
   "metadata": {},
   "outputs": [
    {
     "data": {
      "text/html": [
       "<div>\n",
       "<style scoped>\n",
       "    .dataframe tbody tr th:only-of-type {\n",
       "        vertical-align: middle;\n",
       "    }\n",
       "\n",
       "    .dataframe tbody tr th {\n",
       "        vertical-align: top;\n",
       "    }\n",
       "\n",
       "    .dataframe thead th {\n",
       "        text-align: right;\n",
       "    }\n",
       "</style>\n",
       "<table border=\"1\" class=\"dataframe\">\n",
       "  <thead>\n",
       "    <tr style=\"text-align: right;\">\n",
       "      <th></th>\n",
       "      <th>Unnamed: 0</th>\n",
       "      <th>Gender</th>\n",
       "      <th>EthnicGroup</th>\n",
       "      <th>ParentEduc</th>\n",
       "      <th>LunchType</th>\n",
       "      <th>TestPrep</th>\n",
       "      <th>ParentMaritalStatus</th>\n",
       "      <th>PracticeSport</th>\n",
       "      <th>IsFirstChild</th>\n",
       "      <th>NrSiblings</th>\n",
       "      <th>TransportMeans</th>\n",
       "      <th>WklyStudyHours</th>\n",
       "      <th>MathScore</th>\n",
       "      <th>ReadingScore</th>\n",
       "      <th>WritingScore</th>\n",
       "    </tr>\n",
       "  </thead>\n",
       "  <tbody>\n",
       "    <tr>\n",
       "      <th>0</th>\n",
       "      <td>0</td>\n",
       "      <td>female</td>\n",
       "      <td>NaN</td>\n",
       "      <td>bachelor's degree</td>\n",
       "      <td>standard</td>\n",
       "      <td>none</td>\n",
       "      <td>married</td>\n",
       "      <td>regularly</td>\n",
       "      <td>yes</td>\n",
       "      <td>3.0</td>\n",
       "      <td>school_bus</td>\n",
       "      <td>&lt; 5</td>\n",
       "      <td>71</td>\n",
       "      <td>71</td>\n",
       "      <td>74</td>\n",
       "    </tr>\n",
       "    <tr>\n",
       "      <th>1</th>\n",
       "      <td>1</td>\n",
       "      <td>female</td>\n",
       "      <td>group C</td>\n",
       "      <td>some college</td>\n",
       "      <td>standard</td>\n",
       "      <td>NaN</td>\n",
       "      <td>married</td>\n",
       "      <td>sometimes</td>\n",
       "      <td>yes</td>\n",
       "      <td>0.0</td>\n",
       "      <td>NaN</td>\n",
       "      <td>5 - 10</td>\n",
       "      <td>69</td>\n",
       "      <td>90</td>\n",
       "      <td>88</td>\n",
       "    </tr>\n",
       "    <tr>\n",
       "      <th>2</th>\n",
       "      <td>2</td>\n",
       "      <td>female</td>\n",
       "      <td>group B</td>\n",
       "      <td>master's degree</td>\n",
       "      <td>standard</td>\n",
       "      <td>none</td>\n",
       "      <td>single</td>\n",
       "      <td>sometimes</td>\n",
       "      <td>yes</td>\n",
       "      <td>4.0</td>\n",
       "      <td>school_bus</td>\n",
       "      <td>&lt; 5</td>\n",
       "      <td>87</td>\n",
       "      <td>93</td>\n",
       "      <td>91</td>\n",
       "    </tr>\n",
       "    <tr>\n",
       "      <th>3</th>\n",
       "      <td>3</td>\n",
       "      <td>male</td>\n",
       "      <td>group A</td>\n",
       "      <td>associate's degree</td>\n",
       "      <td>free/reduced</td>\n",
       "      <td>none</td>\n",
       "      <td>married</td>\n",
       "      <td>never</td>\n",
       "      <td>no</td>\n",
       "      <td>1.0</td>\n",
       "      <td>NaN</td>\n",
       "      <td>5 - 10</td>\n",
       "      <td>45</td>\n",
       "      <td>56</td>\n",
       "      <td>42</td>\n",
       "    </tr>\n",
       "    <tr>\n",
       "      <th>4</th>\n",
       "      <td>4</td>\n",
       "      <td>male</td>\n",
       "      <td>group C</td>\n",
       "      <td>some college</td>\n",
       "      <td>standard</td>\n",
       "      <td>none</td>\n",
       "      <td>married</td>\n",
       "      <td>sometimes</td>\n",
       "      <td>yes</td>\n",
       "      <td>0.0</td>\n",
       "      <td>school_bus</td>\n",
       "      <td>5 - 10</td>\n",
       "      <td>76</td>\n",
       "      <td>78</td>\n",
       "      <td>75</td>\n",
       "    </tr>\n",
       "    <tr>\n",
       "      <th>...</th>\n",
       "      <td>...</td>\n",
       "      <td>...</td>\n",
       "      <td>...</td>\n",
       "      <td>...</td>\n",
       "      <td>...</td>\n",
       "      <td>...</td>\n",
       "      <td>...</td>\n",
       "      <td>...</td>\n",
       "      <td>...</td>\n",
       "      <td>...</td>\n",
       "      <td>...</td>\n",
       "      <td>...</td>\n",
       "      <td>...</td>\n",
       "      <td>...</td>\n",
       "      <td>...</td>\n",
       "    </tr>\n",
       "    <tr>\n",
       "      <th>30636</th>\n",
       "      <td>816</td>\n",
       "      <td>female</td>\n",
       "      <td>group D</td>\n",
       "      <td>high school</td>\n",
       "      <td>standard</td>\n",
       "      <td>none</td>\n",
       "      <td>single</td>\n",
       "      <td>sometimes</td>\n",
       "      <td>no</td>\n",
       "      <td>2.0</td>\n",
       "      <td>school_bus</td>\n",
       "      <td>5 - 10</td>\n",
       "      <td>59</td>\n",
       "      <td>61</td>\n",
       "      <td>65</td>\n",
       "    </tr>\n",
       "    <tr>\n",
       "      <th>30637</th>\n",
       "      <td>890</td>\n",
       "      <td>male</td>\n",
       "      <td>group E</td>\n",
       "      <td>high school</td>\n",
       "      <td>standard</td>\n",
       "      <td>none</td>\n",
       "      <td>single</td>\n",
       "      <td>regularly</td>\n",
       "      <td>no</td>\n",
       "      <td>1.0</td>\n",
       "      <td>private</td>\n",
       "      <td>5 - 10</td>\n",
       "      <td>58</td>\n",
       "      <td>53</td>\n",
       "      <td>51</td>\n",
       "    </tr>\n",
       "    <tr>\n",
       "      <th>30638</th>\n",
       "      <td>911</td>\n",
       "      <td>female</td>\n",
       "      <td>NaN</td>\n",
       "      <td>high school</td>\n",
       "      <td>free/reduced</td>\n",
       "      <td>completed</td>\n",
       "      <td>married</td>\n",
       "      <td>sometimes</td>\n",
       "      <td>no</td>\n",
       "      <td>1.0</td>\n",
       "      <td>private</td>\n",
       "      <td>5 - 10</td>\n",
       "      <td>61</td>\n",
       "      <td>70</td>\n",
       "      <td>67</td>\n",
       "    </tr>\n",
       "    <tr>\n",
       "      <th>30639</th>\n",
       "      <td>934</td>\n",
       "      <td>female</td>\n",
       "      <td>group D</td>\n",
       "      <td>associate's degree</td>\n",
       "      <td>standard</td>\n",
       "      <td>completed</td>\n",
       "      <td>married</td>\n",
       "      <td>regularly</td>\n",
       "      <td>no</td>\n",
       "      <td>3.0</td>\n",
       "      <td>school_bus</td>\n",
       "      <td>5 - 10</td>\n",
       "      <td>82</td>\n",
       "      <td>90</td>\n",
       "      <td>93</td>\n",
       "    </tr>\n",
       "    <tr>\n",
       "      <th>30640</th>\n",
       "      <td>960</td>\n",
       "      <td>male</td>\n",
       "      <td>group B</td>\n",
       "      <td>some college</td>\n",
       "      <td>standard</td>\n",
       "      <td>none</td>\n",
       "      <td>married</td>\n",
       "      <td>never</td>\n",
       "      <td>no</td>\n",
       "      <td>1.0</td>\n",
       "      <td>school_bus</td>\n",
       "      <td>5 - 10</td>\n",
       "      <td>64</td>\n",
       "      <td>60</td>\n",
       "      <td>58</td>\n",
       "    </tr>\n",
       "  </tbody>\n",
       "</table>\n",
       "<p>30641 rows × 15 columns</p>\n",
       "</div>"
      ],
      "text/plain": [
       "       Unnamed: 0  Gender EthnicGroup          ParentEduc     LunchType  \\\n",
       "0               0  female         NaN   bachelor's degree      standard   \n",
       "1               1  female     group C        some college      standard   \n",
       "2               2  female     group B     master's degree      standard   \n",
       "3               3    male     group A  associate's degree  free/reduced   \n",
       "4               4    male     group C        some college      standard   \n",
       "...           ...     ...         ...                 ...           ...   \n",
       "30636         816  female     group D         high school      standard   \n",
       "30637         890    male     group E         high school      standard   \n",
       "30638         911  female         NaN         high school  free/reduced   \n",
       "30639         934  female     group D  associate's degree      standard   \n",
       "30640         960    male     group B        some college      standard   \n",
       "\n",
       "        TestPrep ParentMaritalStatus PracticeSport IsFirstChild  NrSiblings  \\\n",
       "0           none             married     regularly          yes         3.0   \n",
       "1            NaN             married     sometimes          yes         0.0   \n",
       "2           none              single     sometimes          yes         4.0   \n",
       "3           none             married         never           no         1.0   \n",
       "4           none             married     sometimes          yes         0.0   \n",
       "...          ...                 ...           ...          ...         ...   \n",
       "30636       none              single     sometimes           no         2.0   \n",
       "30637       none              single     regularly           no         1.0   \n",
       "30638  completed             married     sometimes           no         1.0   \n",
       "30639  completed             married     regularly           no         3.0   \n",
       "30640       none             married         never           no         1.0   \n",
       "\n",
       "      TransportMeans WklyStudyHours  MathScore  ReadingScore  WritingScore  \n",
       "0         school_bus            < 5         71            71            74  \n",
       "1                NaN         5 - 10         69            90            88  \n",
       "2         school_bus            < 5         87            93            91  \n",
       "3                NaN         5 - 10         45            56            42  \n",
       "4         school_bus         5 - 10         76            78            75  \n",
       "...              ...            ...        ...           ...           ...  \n",
       "30636     school_bus         5 - 10         59            61            65  \n",
       "30637        private         5 - 10         58            53            51  \n",
       "30638        private         5 - 10         61            70            67  \n",
       "30639     school_bus         5 - 10         82            90            93  \n",
       "30640     school_bus         5 - 10         64            60            58  \n",
       "\n",
       "[30641 rows x 15 columns]"
      ]
     },
     "execution_count": 3,
     "metadata": {},
     "output_type": "execute_result"
    }
   ],
   "source": [
    "#herhangi hata oluşmasına karşın copy alındı.\n",
    "exams_df = exams.copy()\n",
    "exams_df"
   ]
  },
  {
   "cell_type": "code",
   "execution_count": 4,
   "id": "6a711f2a",
   "metadata": {},
   "outputs": [
    {
     "data": {
      "text/plain": [
       "Index(['Unnamed: 0', 'Gender', 'EthnicGroup', 'ParentEduc', 'LunchType',\n",
       "       'TestPrep', 'ParentMaritalStatus', 'PracticeSport', 'IsFirstChild',\n",
       "       'NrSiblings', 'TransportMeans', 'WklyStudyHours', 'MathScore',\n",
       "       'ReadingScore', 'WritingScore'],\n",
       "      dtype='object')"
      ]
     },
     "execution_count": 4,
     "metadata": {},
     "output_type": "execute_result"
    }
   ],
   "source": [
    "exams_df.columns"
   ]
  },
  {
   "cell_type": "code",
   "execution_count": 5,
   "id": "a12b5ad5",
   "metadata": {},
   "outputs": [],
   "source": [
    "yenicolumns = { 'Unnamed: 0':\"isimsiz\", 'Gender':\"cinsiyet\", 'EthnicGroup':\"etnik_köken\", 'ParentEduc':\"aile_eğitim\", 'LunchType':\"öğleyemeği\",\n",
    "       'TestPrep':\"testhazırlığı\", 'ParentMaritalStatus':\"medeni_durum\", 'PracticeSport':\"spor\", 'IsFirstChild':\"ilk_çocuk\",\n",
    "       'NrSiblings':\"kardeş_sayısı\", 'TransportMeans':\"ulaşım\", 'WklyStudyHours':\"haftalık_çalışma_saati\", 'MathScore':\"matematik\",\n",
    "       'ReadingScore':\"okuma\", 'WritingScore':\"yazma\" }"
   ]
  },
  {
   "cell_type": "code",
   "execution_count": 6,
   "id": "4f4559b7",
   "metadata": {},
   "outputs": [],
   "source": [
    "#kolon isimleri değiştirildi ve inplace ile kalıcı hale geldi.\n",
    "exams_df.rename(columns=yenicolumns,inplace=True) "
   ]
  },
  {
   "cell_type": "code",
   "execution_count": 7,
   "id": "87652fec",
   "metadata": {},
   "outputs": [
    {
     "data": {
      "text/plain": [
       "isimsiz                      0\n",
       "cinsiyet                     0\n",
       "etnik_köken               1840\n",
       "aile_eğitim               1845\n",
       "öğleyemeği                   0\n",
       "testhazırlığı             1830\n",
       "medeni_durum              1190\n",
       "spor                       631\n",
       "ilk_çocuk                  904\n",
       "kardeş_sayısı             1572\n",
       "ulaşım                    3134\n",
       "haftalık_çalışma_saati     955\n",
       "matematik                    0\n",
       "okuma                        0\n",
       "yazma                        0\n",
       "dtype: int64"
      ]
     },
     "execution_count": 7,
     "metadata": {},
     "output_type": "execute_result"
    }
   ],
   "source": [
    "#Veri üzerinde boş dönen veri var mı kontrol edilir.\n",
    "exams_df.isnull().sum()"
   ]
  },
  {
   "cell_type": "code",
   "execution_count": 8,
   "id": "b671bbf7",
   "metadata": {},
   "outputs": [],
   "source": [
    "#kardeş sayısının medyanı bulunur. Boş değerlerin yerine medyan getirilir.\n",
    "kardes_sayısı_median = exams_df[\"kardeş_sayısı\"].median()"
   ]
  },
  {
   "cell_type": "code",
   "execution_count": 9,
   "id": "02a95059",
   "metadata": {},
   "outputs": [
    {
     "data": {
      "text/plain": [
       "2.0"
      ]
     },
     "execution_count": 9,
     "metadata": {},
     "output_type": "execute_result"
    }
   ],
   "source": [
    "kardes_sayısı_median"
   ]
  },
  {
   "cell_type": "code",
   "execution_count": 10,
   "id": "4523e644",
   "metadata": {},
   "outputs": [],
   "source": [
    "exams_df[\"kardeş_sayısı\"].fillna(kardes_sayısı_median,inplace=True)\n"
   ]
  },
  {
   "cell_type": "code",
   "execution_count": 11,
   "id": "9e22a575",
   "metadata": {},
   "outputs": [
    {
     "data": {
      "text/plain": [
       "isimsiz                      0\n",
       "cinsiyet                     0\n",
       "etnik_köken               1840\n",
       "aile_eğitim               1845\n",
       "öğleyemeği                   0\n",
       "testhazırlığı             1830\n",
       "medeni_durum              1190\n",
       "spor                       631\n",
       "ilk_çocuk                  904\n",
       "kardeş_sayısı                0\n",
       "ulaşım                    3134\n",
       "haftalık_çalışma_saati     955\n",
       "matematik                    0\n",
       "okuma                        0\n",
       "yazma                        0\n",
       "dtype: int64"
      ]
     },
     "execution_count": 11,
     "metadata": {},
     "output_type": "execute_result"
    }
   ],
   "source": [
    "exams_df.isnull().sum()"
   ]
  },
  {
   "cell_type": "code",
   "execution_count": 12,
   "id": "be9f7c54",
   "metadata": {},
   "outputs": [
    {
     "data": {
      "text/plain": [
       "5 - 10    16246\n",
       "< 5        8238\n",
       "> 10       5202\n",
       "Name: haftalık_çalışma_saati, dtype: int64"
      ]
     },
     "execution_count": 12,
     "metadata": {},
     "output_type": "execute_result"
    }
   ],
   "source": [
    "#haftalık çalışma saatinde en çok 5-10 arası çalışılmış. Boş değerleri 5-10 olarak doldurabilir.\n",
    "exams_df[\"haftalık_çalışma_saati\"].value_counts()"
   ]
  },
  {
   "cell_type": "code",
   "execution_count": 13,
   "id": "30b5e84b",
   "metadata": {},
   "outputs": [],
   "source": [
    "exams_df[\"haftalık_çalışma_saati\"].fillna(\"5 - 10\",inplace=True)"
   ]
  },
  {
   "cell_type": "code",
   "execution_count": 14,
   "id": "fbfc508a",
   "metadata": {},
   "outputs": [
    {
     "data": {
      "text/plain": [
       "isimsiz                      0\n",
       "cinsiyet                     0\n",
       "etnik_köken               1840\n",
       "aile_eğitim               1845\n",
       "öğleyemeği                   0\n",
       "testhazırlığı             1830\n",
       "medeni_durum              1190\n",
       "spor                       631\n",
       "ilk_çocuk                  904\n",
       "kardeş_sayısı                0\n",
       "ulaşım                    3134\n",
       "haftalık_çalışma_saati       0\n",
       "matematik                    0\n",
       "okuma                        0\n",
       "yazma                        0\n",
       "dtype: int64"
      ]
     },
     "execution_count": 14,
     "metadata": {},
     "output_type": "execute_result"
    }
   ],
   "source": [
    "exams_df.isnull().sum()"
   ]
  },
  {
   "cell_type": "code",
   "execution_count": 15,
   "id": "c50e92e3",
   "metadata": {},
   "outputs": [
    {
     "data": {
      "text/plain": [
       "group C    9212\n",
       "group D    7503\n",
       "group B    5826\n",
       "group E    4041\n",
       "group A    2219\n",
       "Name: etnik_köken, dtype: int64"
      ]
     },
     "execution_count": 15,
     "metadata": {},
     "output_type": "execute_result"
    }
   ],
   "source": [
    "\n",
    "#değerlerin cevap sayıları tespit edilir.\n",
    "# boş değerler bu orana göre doldurulur.\n",
    "exams_df[\"ulaşım\"].value_counts()\n",
    "exams_df[\"spor\"].value_counts()\n",
    "exams_df[\"testhazırlığı\"].value_counts()\n",
    "exams_df[\"ilk_çocuk\"].value_counts()\n",
    "exams_df[\"medeni_durum\"].value_counts()\n",
    "exams_df[\"aile_eğitim\"].value_counts()\n",
    "exams_df[\"etnik_köken\"].value_counts()\n",
    "\n"
   ]
  },
  {
   "cell_type": "code",
   "execution_count": 16,
   "id": "cafd4904",
   "metadata": {},
   "outputs": [],
   "source": [
    "#boş değerlerin doldurulması\n",
    "exams_df[\"ulaşım\"].fillna(\"school_bus\",inplace=True)\n",
    "exams_df[\"spor\"].fillna(\"sometimes\",inplace=True)\n",
    "exams_df[\"testhazırlığı\"].fillna(\"none\",inplace=True)\n",
    "exams_df[\"ilk_çocuk\"].fillna(\"yes\",inplace=True)\n",
    "exams_df[\"medeni_durum\"].fillna(\"married\",inplace=True)\n",
    "exams_df[\"aile_eğitim\"].fillna(\"some college\",inplace=True)\n",
    "exams_df[\"etnik_köken\"].fillna(\"group B\", inplace=True)"
   ]
  },
  {
   "cell_type": "code",
   "execution_count": 17,
   "id": "77ce8798",
   "metadata": {},
   "outputs": [
    {
     "data": {
      "text/html": [
       "<div>\n",
       "<style scoped>\n",
       "    .dataframe tbody tr th:only-of-type {\n",
       "        vertical-align: middle;\n",
       "    }\n",
       "\n",
       "    .dataframe tbody tr th {\n",
       "        vertical-align: top;\n",
       "    }\n",
       "\n",
       "    .dataframe thead th {\n",
       "        text-align: right;\n",
       "    }\n",
       "</style>\n",
       "<table border=\"1\" class=\"dataframe\">\n",
       "  <thead>\n",
       "    <tr style=\"text-align: right;\">\n",
       "      <th></th>\n",
       "      <th>isimsiz</th>\n",
       "      <th>cinsiyet</th>\n",
       "      <th>etnik_köken</th>\n",
       "      <th>aile_eğitim</th>\n",
       "      <th>öğleyemeği</th>\n",
       "      <th>testhazırlığı</th>\n",
       "      <th>medeni_durum</th>\n",
       "      <th>spor</th>\n",
       "      <th>ilk_çocuk</th>\n",
       "      <th>kardeş_sayısı</th>\n",
       "      <th>ulaşım</th>\n",
       "      <th>haftalık_çalışma_saati</th>\n",
       "      <th>matematik</th>\n",
       "      <th>okuma</th>\n",
       "      <th>yazma</th>\n",
       "    </tr>\n",
       "  </thead>\n",
       "  <tbody>\n",
       "    <tr>\n",
       "      <th>0</th>\n",
       "      <td>0</td>\n",
       "      <td>female</td>\n",
       "      <td>group B</td>\n",
       "      <td>bachelor's degree</td>\n",
       "      <td>standard</td>\n",
       "      <td>none</td>\n",
       "      <td>married</td>\n",
       "      <td>regularly</td>\n",
       "      <td>yes</td>\n",
       "      <td>3.0</td>\n",
       "      <td>school_bus</td>\n",
       "      <td>&lt; 5</td>\n",
       "      <td>71</td>\n",
       "      <td>71</td>\n",
       "      <td>74</td>\n",
       "    </tr>\n",
       "    <tr>\n",
       "      <th>1</th>\n",
       "      <td>1</td>\n",
       "      <td>female</td>\n",
       "      <td>group C</td>\n",
       "      <td>some college</td>\n",
       "      <td>standard</td>\n",
       "      <td>none</td>\n",
       "      <td>married</td>\n",
       "      <td>sometimes</td>\n",
       "      <td>yes</td>\n",
       "      <td>0.0</td>\n",
       "      <td>school_bus</td>\n",
       "      <td>5 - 10</td>\n",
       "      <td>69</td>\n",
       "      <td>90</td>\n",
       "      <td>88</td>\n",
       "    </tr>\n",
       "    <tr>\n",
       "      <th>2</th>\n",
       "      <td>2</td>\n",
       "      <td>female</td>\n",
       "      <td>group B</td>\n",
       "      <td>master's degree</td>\n",
       "      <td>standard</td>\n",
       "      <td>none</td>\n",
       "      <td>single</td>\n",
       "      <td>sometimes</td>\n",
       "      <td>yes</td>\n",
       "      <td>4.0</td>\n",
       "      <td>school_bus</td>\n",
       "      <td>&lt; 5</td>\n",
       "      <td>87</td>\n",
       "      <td>93</td>\n",
       "      <td>91</td>\n",
       "    </tr>\n",
       "    <tr>\n",
       "      <th>3</th>\n",
       "      <td>3</td>\n",
       "      <td>male</td>\n",
       "      <td>group A</td>\n",
       "      <td>associate's degree</td>\n",
       "      <td>free/reduced</td>\n",
       "      <td>none</td>\n",
       "      <td>married</td>\n",
       "      <td>never</td>\n",
       "      <td>no</td>\n",
       "      <td>1.0</td>\n",
       "      <td>school_bus</td>\n",
       "      <td>5 - 10</td>\n",
       "      <td>45</td>\n",
       "      <td>56</td>\n",
       "      <td>42</td>\n",
       "    </tr>\n",
       "    <tr>\n",
       "      <th>4</th>\n",
       "      <td>4</td>\n",
       "      <td>male</td>\n",
       "      <td>group C</td>\n",
       "      <td>some college</td>\n",
       "      <td>standard</td>\n",
       "      <td>none</td>\n",
       "      <td>married</td>\n",
       "      <td>sometimes</td>\n",
       "      <td>yes</td>\n",
       "      <td>0.0</td>\n",
       "      <td>school_bus</td>\n",
       "      <td>5 - 10</td>\n",
       "      <td>76</td>\n",
       "      <td>78</td>\n",
       "      <td>75</td>\n",
       "    </tr>\n",
       "    <tr>\n",
       "      <th>...</th>\n",
       "      <td>...</td>\n",
       "      <td>...</td>\n",
       "      <td>...</td>\n",
       "      <td>...</td>\n",
       "      <td>...</td>\n",
       "      <td>...</td>\n",
       "      <td>...</td>\n",
       "      <td>...</td>\n",
       "      <td>...</td>\n",
       "      <td>...</td>\n",
       "      <td>...</td>\n",
       "      <td>...</td>\n",
       "      <td>...</td>\n",
       "      <td>...</td>\n",
       "      <td>...</td>\n",
       "    </tr>\n",
       "    <tr>\n",
       "      <th>30636</th>\n",
       "      <td>816</td>\n",
       "      <td>female</td>\n",
       "      <td>group D</td>\n",
       "      <td>high school</td>\n",
       "      <td>standard</td>\n",
       "      <td>none</td>\n",
       "      <td>single</td>\n",
       "      <td>sometimes</td>\n",
       "      <td>no</td>\n",
       "      <td>2.0</td>\n",
       "      <td>school_bus</td>\n",
       "      <td>5 - 10</td>\n",
       "      <td>59</td>\n",
       "      <td>61</td>\n",
       "      <td>65</td>\n",
       "    </tr>\n",
       "    <tr>\n",
       "      <th>30637</th>\n",
       "      <td>890</td>\n",
       "      <td>male</td>\n",
       "      <td>group E</td>\n",
       "      <td>high school</td>\n",
       "      <td>standard</td>\n",
       "      <td>none</td>\n",
       "      <td>single</td>\n",
       "      <td>regularly</td>\n",
       "      <td>no</td>\n",
       "      <td>1.0</td>\n",
       "      <td>private</td>\n",
       "      <td>5 - 10</td>\n",
       "      <td>58</td>\n",
       "      <td>53</td>\n",
       "      <td>51</td>\n",
       "    </tr>\n",
       "    <tr>\n",
       "      <th>30638</th>\n",
       "      <td>911</td>\n",
       "      <td>female</td>\n",
       "      <td>group B</td>\n",
       "      <td>high school</td>\n",
       "      <td>free/reduced</td>\n",
       "      <td>completed</td>\n",
       "      <td>married</td>\n",
       "      <td>sometimes</td>\n",
       "      <td>no</td>\n",
       "      <td>1.0</td>\n",
       "      <td>private</td>\n",
       "      <td>5 - 10</td>\n",
       "      <td>61</td>\n",
       "      <td>70</td>\n",
       "      <td>67</td>\n",
       "    </tr>\n",
       "    <tr>\n",
       "      <th>30639</th>\n",
       "      <td>934</td>\n",
       "      <td>female</td>\n",
       "      <td>group D</td>\n",
       "      <td>associate's degree</td>\n",
       "      <td>standard</td>\n",
       "      <td>completed</td>\n",
       "      <td>married</td>\n",
       "      <td>regularly</td>\n",
       "      <td>no</td>\n",
       "      <td>3.0</td>\n",
       "      <td>school_bus</td>\n",
       "      <td>5 - 10</td>\n",
       "      <td>82</td>\n",
       "      <td>90</td>\n",
       "      <td>93</td>\n",
       "    </tr>\n",
       "    <tr>\n",
       "      <th>30640</th>\n",
       "      <td>960</td>\n",
       "      <td>male</td>\n",
       "      <td>group B</td>\n",
       "      <td>some college</td>\n",
       "      <td>standard</td>\n",
       "      <td>none</td>\n",
       "      <td>married</td>\n",
       "      <td>never</td>\n",
       "      <td>no</td>\n",
       "      <td>1.0</td>\n",
       "      <td>school_bus</td>\n",
       "      <td>5 - 10</td>\n",
       "      <td>64</td>\n",
       "      <td>60</td>\n",
       "      <td>58</td>\n",
       "    </tr>\n",
       "  </tbody>\n",
       "</table>\n",
       "<p>30641 rows × 15 columns</p>\n",
       "</div>"
      ],
      "text/plain": [
       "       isimsiz cinsiyet etnik_köken         aile_eğitim    öğleyemeği  \\\n",
       "0            0   female     group B   bachelor's degree      standard   \n",
       "1            1   female     group C        some college      standard   \n",
       "2            2   female     group B     master's degree      standard   \n",
       "3            3     male     group A  associate's degree  free/reduced   \n",
       "4            4     male     group C        some college      standard   \n",
       "...        ...      ...         ...                 ...           ...   \n",
       "30636      816   female     group D         high school      standard   \n",
       "30637      890     male     group E         high school      standard   \n",
       "30638      911   female     group B         high school  free/reduced   \n",
       "30639      934   female     group D  associate's degree      standard   \n",
       "30640      960     male     group B        some college      standard   \n",
       "\n",
       "      testhazırlığı medeni_durum       spor ilk_çocuk  kardeş_sayısı  \\\n",
       "0              none      married  regularly       yes            3.0   \n",
       "1              none      married  sometimes       yes            0.0   \n",
       "2              none       single  sometimes       yes            4.0   \n",
       "3              none      married      never        no            1.0   \n",
       "4              none      married  sometimes       yes            0.0   \n",
       "...             ...          ...        ...       ...            ...   \n",
       "30636          none       single  sometimes        no            2.0   \n",
       "30637          none       single  regularly        no            1.0   \n",
       "30638     completed      married  sometimes        no            1.0   \n",
       "30639     completed      married  regularly        no            3.0   \n",
       "30640          none      married      never        no            1.0   \n",
       "\n",
       "           ulaşım haftalık_çalışma_saati  matematik  okuma  yazma  \n",
       "0      school_bus                    < 5         71     71     74  \n",
       "1      school_bus                 5 - 10         69     90     88  \n",
       "2      school_bus                    < 5         87     93     91  \n",
       "3      school_bus                 5 - 10         45     56     42  \n",
       "4      school_bus                 5 - 10         76     78     75  \n",
       "...           ...                    ...        ...    ...    ...  \n",
       "30636  school_bus                 5 - 10         59     61     65  \n",
       "30637     private                 5 - 10         58     53     51  \n",
       "30638     private                 5 - 10         61     70     67  \n",
       "30639  school_bus                 5 - 10         82     90     93  \n",
       "30640  school_bus                 5 - 10         64     60     58  \n",
       "\n",
       "[30641 rows x 15 columns]"
      ]
     },
     "execution_count": 17,
     "metadata": {},
     "output_type": "execute_result"
    }
   ],
   "source": [
    "#tüm boş değerler temizlendi. Datayı yorumlayabiliriz.\n",
    "exams_df"
   ]
  },
  {
   "cell_type": "markdown",
   "id": "565c7b85",
   "metadata": {},
   "source": [
    "Fonksiyon oluşturduk. Haftalık çalışma saati değerlerini fonksiyon aracılığıyla yeni bir sutunda yorumladık."
   ]
  },
  {
   "cell_type": "code",
   "execution_count": 18,
   "id": "e4d7e525",
   "metadata": {},
   "outputs": [],
   "source": [
    "def calısma_saati(puan):\n",
    "    if puan== \"5 - 10\" : \n",
    "        return(\"Tebrikler, gayet güzel gidiyorsun\")\n",
    "    \n",
    "    elif puan== \"< 5\" : \n",
    "        return(\"Daha fazla gayret etmelisin\")\n",
    "    \n",
    "    elif puan== \"> 10\" : \n",
    "        return(\"Çok başarılı, etkilendim \")\n",
    "    \n",
    "\n",
    "exams_df[\"calisma_durumu\"] = exams_df.haftalık_çalışma_saati.apply(calısma_saati)\n",
    "\n"
   ]
  },
  {
   "cell_type": "code",
   "execution_count": 19,
   "id": "1a303f74",
   "metadata": {},
   "outputs": [
    {
     "data": {
      "text/plain": [
       "<matplotlib.legend.Legend at 0x1f6d56613f0>"
      ]
     },
     "execution_count": 19,
     "metadata": {},
     "output_type": "execute_result"
    },
    {
     "data": {
      "image/png": "[encoded data removed]",
      "text/plain": [
       "<Figure size 640x480 with 1 Axes>"
      ]
     },
     "metadata": {},
     "output_type": "display_data"
    }
   ],
   "source": [
    "exams_df.calisma_durumu.value_counts().plot.bar(width =0.50,label =\"Çalışma Saati\",color=\"#e3abdb\").set_title=\"Haftalık Çalışma Saati\"\n",
    "plt.legend()\n",
    "\n",
    "#plt.legend : label'in gözükmesini sağlar.\n",
    "#herhangi bir value counts görüntüleme sırasında .plot.bar(.....) komutu ile grafiğe aktarım sağladık."
   ]
  },
  {
   "cell_type": "markdown",
   "id": "676206db",
   "metadata": {},
   "source": [
    "5-10 saat arası çalışan kişi sayısı daha fazla ve daha az çalışan kişilerin toplamından fazladır."
   ]
  },
  {
   "cell_type": "markdown",
   "id": "0a518c53",
   "metadata": {},
   "source": [
    "# AİLE EĞİTİM DURUMUNUN MATEMATİK NOTLARINA ETKİSİ"
   ]
  },
  {
   "cell_type": "code",
   "execution_count": 48,
   "id": "2baa6223",
   "metadata": {},
   "outputs": [
    {
     "data": {
      "text/plain": [
       "Index(['some college', 'high school', 'associate's degree', 'some high school',\n",
       "       'bachelor's degree', 'master's degree'],\n",
       "      dtype='object')"
      ]
     },
     "execution_count": 48,
     "metadata": {},
     "output_type": "execute_result"
    }
   ],
   "source": [
    "aileegitim_keys = exams_df.aile_eğitim.value_counts().keys()\n",
    "aileegitim_keys"
   ]
  },
  {
   "cell_type": "code",
   "execution_count": 49,
   "id": "edbec09a",
   "metadata": {},
   "outputs": [],
   "source": [
    "aileegitim_value = exams_df[\"aile_eğitim\"].value_counts()"
   ]
  },
  {
   "cell_type": "code",
   "execution_count": 62,
   "id": "b1a694b0",
   "metadata": {},
   "outputs": [
    {
     "data": {
      "text/plain": [
       "<Axes: >"
      ]
     },
     "execution_count": 62,
     "metadata": {},
     "output_type": "execute_result"
    },
    {
     "data": {
      "image/png": "[encoded data removed]",
      "text/plain": [
       "<Figure size 700x400 with 1 Axes>"
      ]
     },
     "metadata": {},
     "output_type": "display_data"
    }
   ],
   "source": [
    "plt.figure(figsize=(7,4))\n",
    "exams_df[\"aile_eğitim\"].value_counts().plot(kind=\"bar\",color=\"#eab676\")"
   ]
  },
  {
   "cell_type": "markdown",
   "id": "048afbe6",
   "metadata": {},
   "source": [
    "# Farklı dataların birbiri arasındaki ilişkiyi gözlemleme"
   ]
  },
  {
   "cell_type": "code",
   "execution_count": 69,
   "id": "e3d94874",
   "metadata": {},
   "outputs": [
    {
     "data": {
      "text/plain": [
       "Index(['isimsiz', 'cinsiyet', 'etnik_köken', 'aile_eğitim', 'öğleyemeği',\n",
       "       'testhazırlığı', 'medeni_durum', 'spor', 'ilk_çocuk', 'kardeş_sayısı',\n",
       "       'ulaşım', 'haftalık_çalışma_saati', 'matematik', 'okuma', 'yazma',\n",
       "       'calisma_durumu'],\n",
       "      dtype='object')"
      ]
     },
     "execution_count": 69,
     "metadata": {},
     "output_type": "execute_result"
    }
   ],
   "source": [
    "exams_df.columns"
   ]
  },
  {
   "cell_type": "code",
   "execution_count": 92,
   "id": "021ff03e",
   "metadata": {},
   "outputs": [
    {
     "data": {
      "image/png": "[encoded data removed]",
      "text/plain": [
       "<Figure size 500x500 with 1 Axes>"
      ]
     },
     "metadata": {},
     "output_type": "display_data"
    }
   ],
   "source": [
    "sbn.catplot(x=\"matematik\",y=\"aile_eğitim\",data=exams_df,color=\"g\")\n",
    "plt.show()"
   ]
  },
  {
   "cell_type": "code",
   "execution_count": 94,
   "id": "f3971485",
   "metadata": {},
   "outputs": [
    {
     "data": {
      "text/plain": [
       "<Axes: xlabel='matematik', ylabel='Count'>"
      ]
     },
     "execution_count": 94,
     "metadata": {},
     "output_type": "execute_result"
    },
    {
     "data": {
      "image/png": "[encoded data removed]",
      "text/plain": [
       "<Figure size 1000x500 with 1 Axes>"
      ]
     },
     "metadata": {},
     "output_type": "display_data"
    }
   ],
   "source": [
    "plt.figure(figsize=(10,5))\n",
    "sbn.histplot(exams_df[\"matematik\"],color=\"r\",bins=100)\n",
    "\n",
    "#bins arttıkça grafik hassaslaşır."
   ]
  },
  {
   "cell_type": "code",
   "execution_count": 100,
   "id": "54349e31",
   "metadata": {},
   "outputs": [
    {
     "data": {
      "text/plain": [
       "<Axes: xlabel='yazma', ylabel='okuma'>"
      ]
     },
     "execution_count": 100,
     "metadata": {},
     "output_type": "execute_result"
    },
    {
     "data": {
      "image/png": "[encoded data removed]",
      "text/plain": [
       "<Figure size 640x480 with 1 Axes>"
      ]
     },
     "metadata": {},
     "output_type": "display_data"
    }
   ],
   "source": [
    "sbn.scatterplot(x=\"yazma\",y=\"okuma\",data=exams_df,color=\"#Fd0791\")\n",
    "\n",
    "#SCATTERPLOT farklı verileri birbiri arasında analiz eder.\n"
   ]
  },
  {
   "cell_type": "code",
   "execution_count": 109,
   "id": "cc670dfb",
   "metadata": {},
   "outputs": [
    {
     "data": {
      "text/plain": [
       "<matplotlib.legend.Legend at 0x1f6ee29e5c0>"
      ]
     },
     "execution_count": 109,
     "metadata": {},
     "output_type": "execute_result"
    },
    {
     "data": {
      "image/png": "[encoded data removed]",
      "text/plain": [
       "<Figure size 1000x500 with 1 Axes>"
      ]
     },
     "metadata": {},
     "output_type": "display_data"
    }
   ],
   "source": [
    "plt.figure(figsize=(10,5))\n",
    "exams_df[\"cinsiyet\"].value_counts().plot.bar(label=\"Cinsiyetler\",color=\"#9925be\")\n",
    "plt.title\n",
    "plt.legend()"
   ]
  },
  {
   "cell_type": "code",
   "execution_count": null,
   "id": "d8a650b1",
   "metadata": {},
   "outputs": [],
   "source": []
  }
 ],
 "metadata": {
  "kernelspec": {
   "display_name": "Python 3 (ipykernel)",
   "language": "python",
   "name": "python3"
  },
  "language_info": {
   "codemirror_mode": {
    "name": "ipython",
    "version": 3
   },
   "file_extension": ".py",
   "mimetype": "text/x-python",
   "name": "python",
   "nbconvert_exporter": "python",
   "pygments_lexer": "ipython3",
   "version": "3.10.9"
  }
 },
 "nbformat": 4,
 "nbformat_minor": 5
}
